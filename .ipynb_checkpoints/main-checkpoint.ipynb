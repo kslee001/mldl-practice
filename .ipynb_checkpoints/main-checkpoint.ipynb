{
 "cells": [
  {
   "cell_type": "code",
   "execution_count": 1,
   "id": "c8c0cb8c",
   "metadata": {
    "scrolled": true
   },
   "outputs": [],
   "source": [
    "# basic utils\n",
    "import os\n",
    "import warnings\n",
    "import random\n",
    "from datetime import datetime\n",
    "warnings.filterwarnings('ignore')\n",
    "import glob\n",
    "import pandas as pd\n",
    "import numpy as np\n",
    "import matplotlib.pyplot as plt\n",
    "import argparse\n",
    "\n",
    "import time as t\n",
    "from tqdm.auto import tqdm as tq\n",
    "from rich.progress import track # progress bar\n",
    "\n",
    "\n",
    "# image processing\n",
    "from PIL  import Image\n",
    "import cv2\n",
    "\n",
    "# sklearn\n",
    "from sklearn.model_selection import train_test_split\n",
    "from sklearn.metrics import accuracy_score\n",
    "from sklearn.metrics import f1_score\n",
    "\n",
    "# torch\n",
    "import torch\n",
    "from torch.utils.data import DataLoader, Dataset\n",
    "# from torchmetrics.classification import MultilabelAccuracy\n",
    "from torchvision import transforms as T\n",
    "\n",
    "# timm\n",
    "import timm\n",
    "from timm.optim import create_optimizer_v2\n",
    "\n",
    "# albumentations\n",
    "import albumentations as A\n",
    "from albumentations.pytorch.transforms import ToTensorV2\n",
    "from albumentations.augmentations.geometric.transforms import Affine as AF\n",
    "\n",
    "# # pytorch lightning\n",
    "# import pytorch_lightning as pl\n",
    "# from pytorch_lightning.loggers import WandbLogger\n",
    "# from pytorch_lightning.callbacks import (\n",
    "#     LearningRateMonitor,\n",
    "#     ModelCheckpoint,\n",
    "#     RichProgressBar,\n",
    "# )\n",
    "\n",
    "# # logging\n",
    "# from loguru import logger\n",
    "\n",
    "# additional utils\n",
    "# from rich.traceback import install\n",
    "# install(show_locals=False, suppress=[\"torch\", \"timm\", \"pytorch_lightning\"])\n"
   ]
  },
  {
   "cell_type": "code",
   "execution_count": 2,
   "id": "3d518661",
   "metadata": {},
   "outputs": [],
   "source": [
    "# model_name = 'repvgg_a2'\n",
    "\n",
    "project_name = 'clock'\n",
    "\n",
    "configs = dict()\n",
    "configs['PROGRESSBAR'] = True\n",
    "configs['BACKBONE'] = 'resnet18'\n",
    "configs['BACKBONE'] = 'repvgg_a2'\n",
    "configs['CNN_OUTDIM'] = 1408 if configs['BACKBONE']=='repvgg_a2' else 512\n",
    "\n",
    "configs['BATCH_SIZE'] = 512\n",
    "configs['LEARNING_RATE'] = 0.001\n",
    "configs['EPOCHS'] = 20\n",
    "configs['TEST_SIZE'] = 0.25\n",
    "configs['SEED'] = 1203\n",
    "configs['WEIGHT_DECAY'] = 0.001\n",
    "configs['DROP_RATE'] = 0.15\n",
    "\n",
    "configs['NUM_WORKERS'] = 2\n",
    "configs['DEVICE'] ='cuda'\n",
    "configs['NUM_GPUS'] = torch.cuda.device_count()\n",
    "configs['SIZE'] = 224\n",
    "\n",
    "# folder_name = f\"./checkpoints/{model_name}_{configs['SEED']}\"\n"
   ]
  },
  {
   "cell_type": "code",
   "execution_count": 3,
   "id": "4785029f",
   "metadata": {},
   "outputs": [],
   "source": [
    "def prepare_data():\n",
    "    train_folder = './data/train'\n",
    "    train_data = []\n",
    "    for name in os.listdir(train_folder):\n",
    "        cur_hour = name.split(\"-\")[0]\n",
    "        cur_min  = name.split(\"-\")[1]\n",
    "        cur_files = glob.glob(f\"{train_folder}/{name}/*.jpg\")\n",
    "        for file in cur_files:\n",
    "            train_data.append([file, cur_hour, cur_min])\n",
    "\n",
    "    train = pd.DataFrame(train_data)\n",
    "    train.columns = ['path', 'hour', 'min']\n",
    "    train['path'] = train['path'].str.replace(\"\\\\\", \"/\", regex=False)\n",
    "\n",
    "    test1_folder = './data/test1'\n",
    "    test1_data = []\n",
    "    for name in os.listdir(test1_folder):\n",
    "        cur_hour = name.split(\"-\")[0]\n",
    "        cur_min  = name.split(\"-\")[1]\n",
    "        cur_files = glob.glob(f\"{test1_folder}/{name}/*.jpg\")\n",
    "        for file in cur_files:\n",
    "            test1_data.append([file, cur_hour, cur_min])\n",
    "\n",
    "    test1 = pd.DataFrame(test1_data)\n",
    "    test1.columns = ['path', 'hour', 'min']\n",
    "    test1['path'] = test1['path'].str.replace(\"\\\\\", \"/\", regex=False)\n",
    "\n",
    "\n",
    "    test2_folder = './data/test2'\n",
    "    test2_data = []\n",
    "    for name in os.listdir(test2_folder):\n",
    "        cur_hour = name.split(\"-\")[0]\n",
    "        cur_min  = name.split(\"-\")[1]\n",
    "        cur_files = glob.glob(f\"{test2_folder}/{name}/*.jpg\")\n",
    "        for file in cur_files:\n",
    "            test2_data.append([file, cur_hour, cur_min])\n",
    "\n",
    "    test2 = pd.DataFrame(test2_data)\n",
    "    test2.columns = ['path', 'hour', 'min']\n",
    "    test2['path'] = test2['path'].str.replace(\"\\\\\", \"/\", regex=False)\n",
    "    \n",
    "    return train, test1, test2\n"
   ]
  },
  {
   "cell_type": "code",
   "execution_count": 4,
   "id": "3d061a66",
   "metadata": {},
   "outputs": [],
   "source": [
    "class BaseDataset(Dataset):\n",
    "    def __init__(self, X, Y, configs, mode='train'):\n",
    "        self.X = X.squeeze()\n",
    "        self.Y = Y\n",
    "        self.configs = configs\n",
    "        self.mode = mode\n",
    "        \n",
    "    def __len__(self):\n",
    "        return len(self.X)\n",
    "    \n",
    "    def __getitem__(self, idx):\n",
    "        # read image\n",
    "        x = self.transform(cv2.imread(self.X[idx], cv2.IMREAD_GRAYSCALE))\n",
    "        w,h = x.shape \n",
    "        x = x.reshape(1, w, h)\n",
    "\n",
    "        if self.mode in ['train', 'val']:\n",
    "            y = self.Y[idx]\n",
    "            hour, minute = y[0], y[1]\n",
    "            hour = np.where(hour == 12, 0, hour)\n",
    "            \n",
    "            # augmentation (rotate) -> new image\n",
    "            delta = random.randint(0, 4)\n",
    "            x, delta = self.rotate(x, delta, hour, minute)\n",
    "            minute = minute + delta  \n",
    "            \n",
    "            hour = torch.tensor(hour)\n",
    "            hour = torch.where(hour==12, 0, hour)\n",
    "            y = torch.tensor([hour, minute]) # -> new label\n",
    "            \n",
    "            return x, y\n",
    "            \n",
    "        \n",
    "    def transform(self, x):\n",
    "        if self.mode in ['train', 'val']:\n",
    "            tf = A.Compose([\n",
    "                A.Resize(height=self.configs['SIZE'], width=self.configs['SIZE']),\n",
    "            ])\n",
    "            x = tf(image=x)['image']\n",
    "        return x\n",
    "    \n",
    "\n",
    "    def rotate(self, img, delta:int, hour:int, minute:int): \n",
    "        # minute MUST be in [0, 1, 2, 3, 4]\n",
    "\n",
    "        if (hour in [9, 10, 11, 12, 1, 2]) and (15<=minute<=40):\n",
    "            case = 0\n",
    "        elif (hour in [3, 4, 5, 6, 7, 8]) and (45<=minute<=59 or 0<=minute<=10):\n",
    "            case = 1\n",
    "        else:\n",
    "            return img, 0\n",
    "\n",
    "        size = img.shape[0]\n",
    "\n",
    "        up_delta   = -0.5*delta if case == 0 else -6*delta\n",
    "        down_delta = -0.5*delta if case == 1 else -6*delta\n",
    "\n",
    "        # up\n",
    "        up_M   = cv2.getRotationMatrix2D( \n",
    "            (img.shape[0]/2.0 , img.shape[1]/2.0), \n",
    "            -0.5*delta, \n",
    "            1.1)\n",
    "        up = cv2.warpAffine(\n",
    "            img, \n",
    "            up_M, \n",
    "            (img.shape[1], img.shape[0]),\n",
    "            borderMode=cv2.BORDER_CONSTANT,\n",
    "           borderValue=(255,255)\n",
    "        )[:size//2]\n",
    "\n",
    "        # down\n",
    "        down_M   = cv2.getRotationMatrix2D( \n",
    "            (img.shape[0]/2.0 , img.shape[1]/2.0), \n",
    "            -6*delta, \n",
    "            1.1)\n",
    "        down = cv2.warpAffine(\n",
    "            img, \n",
    "            down_M, \n",
    "            (img.shape[1], img.shape[0]),\n",
    "            borderMode=cv2.BORDER_CONSTANT,\n",
    "           borderValue=(255,255)\n",
    "        )[size//2:]\n",
    "        augmented = cv2.vconcat([up, down])\n",
    "        return augmented, delta\n",
    "\n"
   ]
  },
  {
   "cell_type": "code",
   "execution_count": 5,
   "id": "5d059455",
   "metadata": {
    "scrolled": true
   },
   "outputs": [],
   "source": [
    "train, test1, test2 = prepare_data()\n",
    "# train test split\n",
    "train, val = train_test_split(train, test_size=configs['TEST_SIZE'], random_state=configs['SEED'])\n",
    "# train data\n",
    "X_train = train[['path']].values\n",
    "Y_train = train[['hour', 'min']].astype(int).values\n",
    "# valid data\n",
    "X_val = val[['path']].values\n",
    "Y_val = val[['hour', 'min']].astype(int).values\n",
    "# test data (1)\n",
    "X_test1 = test1[['path']].values\n",
    "Y_test1 = test1[['hour', 'min']].astype(int).values\n",
    "# test data (2)\n",
    "X_test2 = test2[['path']].values\n",
    "Y_test2 = test2[['hour', 'min']].astype(int).values"
   ]
  },
  {
   "cell_type": "code",
   "execution_count": 6,
   "id": "33478870",
   "metadata": {},
   "outputs": [],
   "source": [
    "train_dataset = BaseDataset(X_train, Y_train, configs=configs, mode='train')\n",
    "train_loader = DataLoader(train_dataset, batch_size=configs['BATCH_SIZE'], shuffle=True)\n",
    "val_dataset = BaseDataset(X_val, Y_val, configs=configs, mode='val')\n",
    "val_loader = DataLoader(val_dataset, batch_size=configs['BATCH_SIZE'], shuffle=False)\n",
    "test1_dataset = BaseDataset(X_test1, None, configs=configs, mode='test')\n",
    "test1_loader = DataLoader(test1_dataset, batch_size=configs['BATCH_SIZE'], shuffle=False)\n",
    "test2_dataset = BaseDataset(X_test2, None, configs=configs, mode='test')\n",
    "test2_loader = DataLoader(test2_dataset, batch_size=configs['BATCH_SIZE'], shuffle=False)"
   ]
  },
  {
   "cell_type": "code",
   "execution_count": 7,
   "id": "c6b7cb65",
   "metadata": {},
   "outputs": [],
   "source": [
    "class temp(torch.nn.Module):\n",
    "    def __init__(self, configs):\n",
    "        super().__init__()\n",
    "        self.configs = configs\n",
    "        self.backbone = timm.create_model(\n",
    "            self.configs['BACKBONE'],\n",
    "            in_chans = 1,\n",
    "            pretrained=True,\n",
    "            num_classes = 0, \n",
    "            drop_rate = configs['DROP_RATE'],\n",
    "        )\n",
    "        \n",
    "        self.hour_classifier = torch.nn.Linear(self.configs['CNN_OUTDIM'], 12)\n",
    "        self.minute_classifier = torch.nn.Linear(self.configs['CNN_OUTDIM'], 60)\n",
    "        \n",
    "    def forward(self, x):\n",
    "        x = self.backbone(x)\n",
    "        hour = self.hour_classifier(x)\n",
    "        mint = self.minute_classifier(x)\n",
    "        return hour, mint"
   ]
  },
  {
   "cell_type": "markdown",
   "id": "7f518259",
   "metadata": {},
   "source": [
    "### train"
   ]
  },
  {
   "cell_type": "code",
   "execution_count": 8,
   "id": "688c9b8d",
   "metadata": {
    "scrolled": true
   },
   "outputs": [],
   "source": [
    "model = temp(configs).to(configs['DEVICE'])\n",
    "optimizer = torch.optim.Adam(model.parameters(), lr = configs['LEARNING_RATE'])"
   ]
  },
  {
   "cell_type": "code",
   "execution_count": 9,
   "id": "3da15224",
   "metadata": {},
   "outputs": [],
   "source": [
    "criterion1 = torch.nn.CrossEntropyLoss().to(configs['DEVICE'])\n",
    "criterion2 = torch.nn.CrossEntropyLoss().to(configs['DEVICE'])"
   ]
  },
  {
   "cell_type": "code",
   "execution_count": 10,
   "id": "664a10d0",
   "metadata": {
    "scrolled": true
   },
   "outputs": [],
   "source": [
    "def train_fn():\n",
    "    global hour_pred, mint_pred, pred, label, labels, preds\n",
    "    def step(batch):\n",
    "        x, y = batch\n",
    "        x = x.to(configs['DEVICE']).float()\n",
    "        ys = [y[:, idx].to(configs['DEVICE']) for idx in range(2)]        \n",
    "        \n",
    "        \n",
    "        yhats = model(x)\n",
    "        loss1 = criterion1(yhats[0], ys[0])\n",
    "        loss2 = criterion2(yhats[1], ys[1])\n",
    "        loss = loss1 + loss2\n",
    "        return loss, yhats\n",
    "    \n",
    "    \n",
    "    best_model = None\n",
    "    best_acc   = 0\n",
    "    best_loss  = 999999\n",
    "    \n",
    "    for epoch in range(1, configs['EPOCHS']):\n",
    "        # train\n",
    "        model.train()\n",
    "\n",
    "        train_loss = []\n",
    "        train_iterator = tq(train_loader) if configs['PROGRESSBAR'] else train_loader\n",
    "        for batch in train_iterator:\n",
    "            optimizer.zero_grad()\n",
    "            loss, _ = step(batch)\n",
    "            loss.backward()\n",
    "            optimizer.step()\n",
    "            train_loss.append(loss.item())\n",
    "\n",
    "            \n",
    "        with torch.no_grad():\n",
    "            val_loss = []\n",
    "            val_acc  = 0\n",
    "            \n",
    "            preds = []\n",
    "            labels = []\n",
    "            val_iterator = tq(val_loader) if configs['PROGRESSBAR'] else val_loader\n",
    "            for batch in val_iterator:\n",
    "                loss, yhat = step(batch)\n",
    "                val_loss.append(loss.detach().cpu().numpy())\n",
    "                \n",
    "                hour_pred = yhat[0].argmax(1).detach().cpu().numpy()\n",
    "                mint_pred = yhat[1].argmax(1).detach().cpu().numpy()\n",
    "                pred  = np.array([hour_pred, mint_pred]).T.tolist()\n",
    "                label = batch[1].detach().cpu().numpy().tolist()\n",
    "                \n",
    "                preds.extend(pred)\n",
    "                labels.extend(label)\n",
    "        \n",
    "        labels = [str(labels[idx][0]) + str(labels[idx][1]) for idx in range(len(labels))]\n",
    "        preds = [str(preds[idx][0]) + str(preds[idx][1]) for idx in range(len(preds))]\n",
    "        acc = accuracy_score(labels, preds)\n",
    "        \n",
    "        if acc > best_acc:\n",
    "            best_acc = acc\n",
    "            best_model = model\n",
    "            \n",
    "        train_loss =  np.mean(train_loss)\n",
    "        val_loss   = np.mean(val_loss)\n",
    "        if val_loss < best_loss:\n",
    "            best_loss = val_loss\n",
    "            \n",
    "        print(f\"-- EPOCH {epoch} --\")\n",
    "        print(f\"train_loss   : {round(train_loss, 4)}\")\n",
    "        print(f\"val_loss     : {round(val_loss, 4)}\")\n",
    "        print(f\"val accuracy : {round(acc, 4)}\")\n",
    "\n",
    "    return best_model"
   ]
  },
  {
   "cell_type": "code",
   "execution_count": 11,
   "id": "958b6723",
   "metadata": {
    "scrolled": false
   },
   "outputs": [
    {
     "data": {
      "application/vnd.jupyter.widget-view+json": {
       "model_id": "6ceacaa5046643fca8d8d8a528a7a8a5",
       "version_major": 2,
       "version_minor": 0
      },
      "text/plain": [
       "  0%|          | 0/4 [00:00<?, ?it/s]"
      ]
     },
     "metadata": {},
     "output_type": "display_data"
    },
    {
     "data": {
      "application/vnd.jupyter.widget-view+json": {
       "model_id": "8ea1ad3496db40c59029e8fea0c4c092",
       "version_major": 2,
       "version_minor": 0
      },
      "text/plain": [
       "  0%|          | 0/2 [00:00<?, ?it/s]"
      ]
     },
     "metadata": {},
     "output_type": "display_data"
    },
    {
     "name": "stdout",
     "output_type": "stream",
     "text": [
      "-- EPOCH 1 --\n",
      "train_loss   : 6.2102\n",
      "val_loss     : 5.48799991607666\n",
      "val accuracy : 0.0397\n"
     ]
    },
    {
     "data": {
      "application/vnd.jupyter.widget-view+json": {
       "model_id": "a508440e15f14da3ab98f6138a84ada2",
       "version_major": 2,
       "version_minor": 0
      },
      "text/plain": [
       "  0%|          | 0/4 [00:00<?, ?it/s]"
      ]
     },
     "metadata": {},
     "output_type": "display_data"
    },
    {
     "data": {
      "application/vnd.jupyter.widget-view+json": {
       "model_id": "2e375174eab643bd80a27de5fd8fb18c",
       "version_major": 2,
       "version_minor": 0
      },
      "text/plain": [
       "  0%|          | 0/2 [00:00<?, ?it/s]"
      ]
     },
     "metadata": {},
     "output_type": "display_data"
    },
    {
     "name": "stdout",
     "output_type": "stream",
     "text": [
      "-- EPOCH 2 --\n",
      "train_loss   : 4.8225\n",
      "val_loss     : 4.143799781799316\n",
      "val accuracy : 0.1937\n"
     ]
    },
    {
     "data": {
      "application/vnd.jupyter.widget-view+json": {
       "model_id": "5fd31065dace45a4bcd94a99fe8bed81",
       "version_major": 2,
       "version_minor": 0
      },
      "text/plain": [
       "  0%|          | 0/4 [00:00<?, ?it/s]"
      ]
     },
     "metadata": {},
     "output_type": "display_data"
    },
    {
     "data": {
      "application/vnd.jupyter.widget-view+json": {
       "model_id": "d88b83a3ee4c4181bd2795bcc730be7d",
       "version_major": 2,
       "version_minor": 0
      },
      "text/plain": [
       "  0%|          | 0/2 [00:00<?, ?it/s]"
      ]
     },
     "metadata": {},
     "output_type": "display_data"
    },
    {
     "name": "stdout",
     "output_type": "stream",
     "text": [
      "-- EPOCH 3 --\n",
      "train_loss   : 3.7761\n",
      "val_loss     : 3.4684998989105225\n",
      "val accuracy : 0.2698\n"
     ]
    },
    {
     "data": {
      "application/vnd.jupyter.widget-view+json": {
       "model_id": "ec4712850eaf46c3af5d22b792773f84",
       "version_major": 2,
       "version_minor": 0
      },
      "text/plain": [
       "  0%|          | 0/4 [00:00<?, ?it/s]"
      ]
     },
     "metadata": {},
     "output_type": "display_data"
    },
    {
     "data": {
      "application/vnd.jupyter.widget-view+json": {
       "model_id": "0f5e7834d70946f4944c8b2496bf7b15",
       "version_major": 2,
       "version_minor": 0
      },
      "text/plain": [
       "  0%|          | 0/2 [00:00<?, ?it/s]"
      ]
     },
     "metadata": {},
     "output_type": "display_data"
    },
    {
     "name": "stdout",
     "output_type": "stream",
     "text": [
      "-- EPOCH 4 --\n",
      "train_loss   : 3.2078\n",
      "val_loss     : 2.964099884033203\n",
      "val accuracy : 0.3635\n"
     ]
    },
    {
     "data": {
      "application/vnd.jupyter.widget-view+json": {
       "model_id": "b52ef89abc6f49f48838e5e935369c10",
       "version_major": 2,
       "version_minor": 0
      },
      "text/plain": [
       "  0%|          | 0/4 [00:00<?, ?it/s]"
      ]
     },
     "metadata": {},
     "output_type": "display_data"
    },
    {
     "data": {
      "application/vnd.jupyter.widget-view+json": {
       "model_id": "76450944885b4191b9d70f52607e6b0e",
       "version_major": 2,
       "version_minor": 0
      },
      "text/plain": [
       "  0%|          | 0/2 [00:00<?, ?it/s]"
      ]
     },
     "metadata": {},
     "output_type": "display_data"
    },
    {
     "name": "stdout",
     "output_type": "stream",
     "text": [
      "-- EPOCH 5 --\n",
      "train_loss   : 2.7495\n",
      "val_loss     : 2.7432000637054443\n",
      "val accuracy : 0.4095\n"
     ]
    },
    {
     "data": {
      "application/vnd.jupyter.widget-view+json": {
       "model_id": "60140ba83f1b4da0ab450059363ca2a3",
       "version_major": 2,
       "version_minor": 0
      },
      "text/plain": [
       "  0%|          | 0/4 [00:00<?, ?it/s]"
      ]
     },
     "metadata": {},
     "output_type": "display_data"
    },
    {
     "data": {
      "application/vnd.jupyter.widget-view+json": {
       "model_id": "aeae8bdcc2a5452c86d5545593c6aa32",
       "version_major": 2,
       "version_minor": 0
      },
      "text/plain": [
       "  0%|          | 0/2 [00:00<?, ?it/s]"
      ]
     },
     "metadata": {},
     "output_type": "display_data"
    },
    {
     "name": "stdout",
     "output_type": "stream",
     "text": [
      "-- EPOCH 6 --\n",
      "train_loss   : 2.5534\n",
      "val_loss     : 2.7827999591827393\n",
      "val accuracy : 0.4175\n"
     ]
    },
    {
     "data": {
      "application/vnd.jupyter.widget-view+json": {
       "model_id": "df0c58eef3cd42ad9df77d3c4f9e22db",
       "version_major": 2,
       "version_minor": 0
      },
      "text/plain": [
       "  0%|          | 0/4 [00:00<?, ?it/s]"
      ]
     },
     "metadata": {},
     "output_type": "display_data"
    },
    {
     "data": {
      "application/vnd.jupyter.widget-view+json": {
       "model_id": "d14f555e82d54285a48467c72edd50d2",
       "version_major": 2,
       "version_minor": 0
      },
      "text/plain": [
       "  0%|          | 0/2 [00:00<?, ?it/s]"
      ]
     },
     "metadata": {},
     "output_type": "display_data"
    },
    {
     "name": "stdout",
     "output_type": "stream",
     "text": [
      "-- EPOCH 7 --\n",
      "train_loss   : 2.3888\n",
      "val_loss     : 2.500499963760376\n",
      "val accuracy : 0.4429\n"
     ]
    },
    {
     "data": {
      "application/vnd.jupyter.widget-view+json": {
       "model_id": "781ee14df9ec4fd5bb6c1ce3a72c3485",
       "version_major": 2,
       "version_minor": 0
      },
      "text/plain": [
       "  0%|          | 0/4 [00:00<?, ?it/s]"
      ]
     },
     "metadata": {},
     "output_type": "display_data"
    },
    {
     "data": {
      "application/vnd.jupyter.widget-view+json": {
       "model_id": "0619112facaf42e093a15d7d5456c5b7",
       "version_major": 2,
       "version_minor": 0
      },
      "text/plain": [
       "  0%|          | 0/2 [00:00<?, ?it/s]"
      ]
     },
     "metadata": {},
     "output_type": "display_data"
    },
    {
     "name": "stdout",
     "output_type": "stream",
     "text": [
      "-- EPOCH 8 --\n",
      "train_loss   : 2.2658\n",
      "val_loss     : 2.4577999114990234\n",
      "val accuracy : 0.481\n"
     ]
    },
    {
     "data": {
      "application/vnd.jupyter.widget-view+json": {
       "model_id": "ae4332f42a65410c8ad72334ac53f20c",
       "version_major": 2,
       "version_minor": 0
      },
      "text/plain": [
       "  0%|          | 0/4 [00:00<?, ?it/s]"
      ]
     },
     "metadata": {},
     "output_type": "display_data"
    },
    {
     "data": {
      "application/vnd.jupyter.widget-view+json": {
       "model_id": "1394a36543ae4b56b2a346a5437b21ea",
       "version_major": 2,
       "version_minor": 0
      },
      "text/plain": [
       "  0%|          | 0/2 [00:00<?, ?it/s]"
      ]
     },
     "metadata": {},
     "output_type": "display_data"
    },
    {
     "name": "stdout",
     "output_type": "stream",
     "text": [
      "-- EPOCH 9 --\n",
      "train_loss   : 2.1551\n",
      "val_loss     : 2.497299909591675\n",
      "val accuracy : 0.4651\n"
     ]
    },
    {
     "data": {
      "application/vnd.jupyter.widget-view+json": {
       "model_id": "1ce82aa34751406e84d4afa59193547d",
       "version_major": 2,
       "version_minor": 0
      },
      "text/plain": [
       "  0%|          | 0/4 [00:00<?, ?it/s]"
      ]
     },
     "metadata": {},
     "output_type": "display_data"
    },
    {
     "data": {
      "application/vnd.jupyter.widget-view+json": {
       "model_id": "2ccc8a5611514f2fa9f28d5e5125dfd2",
       "version_major": 2,
       "version_minor": 0
      },
      "text/plain": [
       "  0%|          | 0/2 [00:00<?, ?it/s]"
      ]
     },
     "metadata": {},
     "output_type": "display_data"
    },
    {
     "name": "stdout",
     "output_type": "stream",
     "text": [
      "-- EPOCH 10 --\n",
      "train_loss   : 2.1086\n",
      "val_loss     : 2.447499990463257\n",
      "val accuracy : 0.4762\n"
     ]
    },
    {
     "data": {
      "application/vnd.jupyter.widget-view+json": {
       "model_id": "a426a55183624006848d23544e0d106c",
       "version_major": 2,
       "version_minor": 0
      },
      "text/plain": [
       "  0%|          | 0/4 [00:00<?, ?it/s]"
      ]
     },
     "metadata": {},
     "output_type": "display_data"
    },
    {
     "data": {
      "application/vnd.jupyter.widget-view+json": {
       "model_id": "2aaa23c865a74eb1b0b09b13b18dcdb6",
       "version_major": 2,
       "version_minor": 0
      },
      "text/plain": [
       "  0%|          | 0/2 [00:00<?, ?it/s]"
      ]
     },
     "metadata": {},
     "output_type": "display_data"
    },
    {
     "name": "stdout",
     "output_type": "stream",
     "text": [
      "-- EPOCH 11 --\n",
      "train_loss   : 2.0904\n",
      "val_loss     : 2.252000093460083\n",
      "val accuracy : 0.4905\n"
     ]
    },
    {
     "data": {
      "application/vnd.jupyter.widget-view+json": {
       "model_id": "32cb87a6087141569358b0032aebb0ed",
       "version_major": 2,
       "version_minor": 0
      },
      "text/plain": [
       "  0%|          | 0/4 [00:00<?, ?it/s]"
      ]
     },
     "metadata": {},
     "output_type": "display_data"
    },
    {
     "data": {
      "application/vnd.jupyter.widget-view+json": {
       "model_id": "fa06ced217344420ae1f73dae6fa533f",
       "version_major": 2,
       "version_minor": 0
      },
      "text/plain": [
       "  0%|          | 0/2 [00:00<?, ?it/s]"
      ]
     },
     "metadata": {},
     "output_type": "display_data"
    },
    {
     "name": "stdout",
     "output_type": "stream",
     "text": [
      "-- EPOCH 12 --\n",
      "train_loss   : 2.0474\n",
      "val_loss     : 2.313800096511841\n",
      "val accuracy : 0.5111\n"
     ]
    },
    {
     "data": {
      "application/vnd.jupyter.widget-view+json": {
       "model_id": "2153aa83e08840cd9dcc02a88fdcb90f",
       "version_major": 2,
       "version_minor": 0
      },
      "text/plain": [
       "  0%|          | 0/4 [00:00<?, ?it/s]"
      ]
     },
     "metadata": {},
     "output_type": "display_data"
    },
    {
     "data": {
      "application/vnd.jupyter.widget-view+json": {
       "model_id": "9809d3ca5a20493f9d58775d580d511b",
       "version_major": 2,
       "version_minor": 0
      },
      "text/plain": [
       "  0%|          | 0/2 [00:00<?, ?it/s]"
      ]
     },
     "metadata": {},
     "output_type": "display_data"
    },
    {
     "name": "stdout",
     "output_type": "stream",
     "text": [
      "-- EPOCH 13 --\n",
      "train_loss   : 2.0271\n",
      "val_loss     : 2.2339000701904297\n",
      "val accuracy : 0.519\n"
     ]
    },
    {
     "data": {
      "application/vnd.jupyter.widget-view+json": {
       "model_id": "9f6e489af50346348ef72aaede005bf0",
       "version_major": 2,
       "version_minor": 0
      },
      "text/plain": [
       "  0%|          | 0/4 [00:00<?, ?it/s]"
      ]
     },
     "metadata": {},
     "output_type": "display_data"
    },
    {
     "data": {
      "application/vnd.jupyter.widget-view+json": {
       "model_id": "e1c8f7040a0e4aadba2582ff61f5d784",
       "version_major": 2,
       "version_minor": 0
      },
      "text/plain": [
       "  0%|          | 0/2 [00:00<?, ?it/s]"
      ]
     },
     "metadata": {},
     "output_type": "display_data"
    },
    {
     "name": "stdout",
     "output_type": "stream",
     "text": [
      "-- EPOCH 14 --\n",
      "train_loss   : 2.0092\n",
      "val_loss     : 2.3120999336242676\n",
      "val accuracy : 0.5206\n"
     ]
    },
    {
     "data": {
      "application/vnd.jupyter.widget-view+json": {
       "model_id": "6a749caee0694106a6b564472cd51b00",
       "version_major": 2,
       "version_minor": 0
      },
      "text/plain": [
       "  0%|          | 0/4 [00:00<?, ?it/s]"
      ]
     },
     "metadata": {},
     "output_type": "display_data"
    },
    {
     "data": {
      "application/vnd.jupyter.widget-view+json": {
       "model_id": "2c2d83ddb6224f959b7bc9b25a0320a0",
       "version_major": 2,
       "version_minor": 0
      },
      "text/plain": [
       "  0%|          | 0/2 [00:00<?, ?it/s]"
      ]
     },
     "metadata": {},
     "output_type": "display_data"
    },
    {
     "name": "stdout",
     "output_type": "stream",
     "text": [
      "-- EPOCH 15 --\n",
      "train_loss   : 2.0029\n",
      "val_loss     : 2.4258999824523926\n",
      "val accuracy : 0.5063\n"
     ]
    },
    {
     "data": {
      "application/vnd.jupyter.widget-view+json": {
       "model_id": "8e59ba38b5c240d48a0b5fab93525677",
       "version_major": 2,
       "version_minor": 0
      },
      "text/plain": [
       "  0%|          | 0/4 [00:00<?, ?it/s]"
      ]
     },
     "metadata": {},
     "output_type": "display_data"
    },
    {
     "data": {
      "application/vnd.jupyter.widget-view+json": {
       "model_id": "94fd5130029449288eafb4ed111273c1",
       "version_major": 2,
       "version_minor": 0
      },
      "text/plain": [
       "  0%|          | 0/2 [00:00<?, ?it/s]"
      ]
     },
     "metadata": {},
     "output_type": "display_data"
    },
    {
     "name": "stdout",
     "output_type": "stream",
     "text": [
      "-- EPOCH 16 --\n",
      "train_loss   : 1.9866\n",
      "val_loss     : 2.472899913787842\n",
      "val accuracy : 0.5\n"
     ]
    },
    {
     "data": {
      "application/vnd.jupyter.widget-view+json": {
       "model_id": "b37518f5e49c41cf864e9c79b2532bf0",
       "version_major": 2,
       "version_minor": 0
      },
      "text/plain": [
       "  0%|          | 0/4 [00:00<?, ?it/s]"
      ]
     },
     "metadata": {},
     "output_type": "display_data"
    },
    {
     "data": {
      "application/vnd.jupyter.widget-view+json": {
       "model_id": "46615029d0304738887fc25af414dad4",
       "version_major": 2,
       "version_minor": 0
      },
      "text/plain": [
       "  0%|          | 0/2 [00:00<?, ?it/s]"
      ]
     },
     "metadata": {},
     "output_type": "display_data"
    },
    {
     "name": "stdout",
     "output_type": "stream",
     "text": [
      "-- EPOCH 17 --\n",
      "train_loss   : 2.0006\n",
      "val_loss     : 2.514699935913086\n",
      "val accuracy : 0.481\n"
     ]
    },
    {
     "data": {
      "application/vnd.jupyter.widget-view+json": {
       "model_id": "c369314cebc446f09470395953b1ee42",
       "version_major": 2,
       "version_minor": 0
      },
      "text/plain": [
       "  0%|          | 0/4 [00:00<?, ?it/s]"
      ]
     },
     "metadata": {},
     "output_type": "display_data"
    },
    {
     "data": {
      "application/vnd.jupyter.widget-view+json": {
       "model_id": "776a3df37517495e9bdb2770f328c98a",
       "version_major": 2,
       "version_minor": 0
      },
      "text/plain": [
       "  0%|          | 0/2 [00:00<?, ?it/s]"
      ]
     },
     "metadata": {},
     "output_type": "display_data"
    },
    {
     "name": "stdout",
     "output_type": "stream",
     "text": [
      "-- EPOCH 18 --\n",
      "train_loss   : 2.0061\n",
      "val_loss     : 2.3524999618530273\n",
      "val accuracy : 0.5127\n"
     ]
    },
    {
     "data": {
      "application/vnd.jupyter.widget-view+json": {
       "model_id": "fa53e6b9656040699d916b88c813e853",
       "version_major": 2,
       "version_minor": 0
      },
      "text/plain": [
       "  0%|          | 0/4 [00:00<?, ?it/s]"
      ]
     },
     "metadata": {},
     "output_type": "display_data"
    },
    {
     "data": {
      "application/vnd.jupyter.widget-view+json": {
       "model_id": "bdccf228b1314ec6b861cc0055c2d872",
       "version_major": 2,
       "version_minor": 0
      },
      "text/plain": [
       "  0%|          | 0/2 [00:00<?, ?it/s]"
      ]
     },
     "metadata": {},
     "output_type": "display_data"
    },
    {
     "name": "stdout",
     "output_type": "stream",
     "text": [
      "-- EPOCH 19 --\n",
      "train_loss   : 1.9662\n",
      "val_loss     : 2.413599967956543\n",
      "val accuracy : 0.5159\n"
     ]
    }
   ],
   "source": [
    "best_model = train_fn()"
   ]
  },
  {
   "cell_type": "code",
   "execution_count": 12,
   "id": "f82ef5c3",
   "metadata": {},
   "outputs": [
    {
     "ename": "NameError",
     "evalue": "name 'x' is not defined",
     "output_type": "error",
     "traceback": [
      "\u001b[0;31m---------------------------------------------------------------------------\u001b[0m",
      "\u001b[0;31mNameError\u001b[0m                                 Traceback (most recent call last)",
      "Cell \u001b[0;32mIn [12], line 1\u001b[0m\n\u001b[0;32m----> 1\u001b[0m \u001b[43mx\u001b[49m\n",
      "\u001b[0;31mNameError\u001b[0m: name 'x' is not defined"
     ]
    }
   ],
   "source": []
  },
  {
   "cell_type": "code",
   "execution_count": null,
   "id": "f0912491",
   "metadata": {},
   "outputs": [],
   "source": []
  }
 ],
 "metadata": {
  "kernelspec": {
   "display_name": "tch",
   "language": "python",
   "name": "tch"
  },
  "language_info": {
   "codemirror_mode": {
    "name": "ipython",
    "version": 3
   },
   "file_extension": ".py",
   "mimetype": "text/x-python",
   "name": "python",
   "nbconvert_exporter": "python",
   "pygments_lexer": "ipython3",
   "version": "3.10.9"
  }
 },
 "nbformat": 4,
 "nbformat_minor": 5
}
