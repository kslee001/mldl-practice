{
 "cells": [
  {
   "cell_type": "markdown",
   "id": "35d07c06",
   "metadata": {},
   "source": [
    "# unzip dataset"
   ]
  },
  {
   "cell_type": "code",
   "execution_count": 1,
   "id": "40ec52c1",
   "metadata": {},
   "outputs": [],
   "source": [
    "# import zipfile\n",
    "\n",
    "# if __name__ == '__main__':\n",
    "#     folder = \"/home/gyuseonglee/workspace/2day\"\n",
    "#     unzip = zipfile.ZipFile(f\"{folder}/Paired_MNIST.zip\")\n",
    "#     unzip.extractall(\"/home/gyuseonglee/workspace/2day/data\")\n",
    "#     unzip.close()"
   ]
  },
  {
   "cell_type": "markdown",
   "id": "1a3ff61e",
   "metadata": {},
   "source": [
    "### import libraries"
   ]
  },
  {
   "cell_type": "code",
   "execution_count": 2,
   "id": "89dbd2af",
   "metadata": {},
   "outputs": [],
   "source": [
    "import os\n",
    "import pickle as pkl\n",
    "import torch\n",
    "import pandas as pd\n",
    "import numpy as np\n",
    "import cv2\n",
    "\n",
    "from tqdm.auto import tqdm as tq\n",
    "\n",
    "from sklearn.model_selection import train_test_split\n",
    "from sklearn.metrics import accuracy_score, f1_score\n",
    "\n",
    "\n",
    "import matplotlib.pyplot as plt\n"
   ]
  },
  {
   "cell_type": "code",
   "execution_count": 3,
   "id": "1c8b9d06",
   "metadata": {},
   "outputs": [],
   "source": [
    "folder = './data/Paired_MNIST'\n",
    "with open(f'{folder}/training_tuple.pkl', 'rb') as f:\n",
    "    training_tuple = pkl.load(f)\n",
    "with open(f'{folder}/training_dict.pkl', 'rb') as f:\n",
    "    training_dict  = pkl.load(f)\n",
    "with open(f'{folder}/test.pkl', 'rb') as f:\n",
    "    test = pkl.load(f)"
   ]
  },
  {
   "cell_type": "code",
   "execution_count": 4,
   "id": "4edaed18",
   "metadata": {},
   "outputs": [
    {
     "name": "stdout",
     "output_type": "stream",
     "text": [
      "train img   : torch.Size([50000, 2, 28, 28])\n",
      "train label : torch.Size([50000])\n",
      "valid img   : torch.Size([10000, 2, 28, 28])\n",
      "valid label : torch.Size([10000])\n",
      "test img    : torch.Size([10000, 28, 28])\n",
      "test label  : torch.Size([10000])\n"
     ]
    }
   ],
   "source": [
    "# print shape\n",
    "X_train = training_tuple[0]\n",
    "Y_train = training_tuple[1]\n",
    "X_train, X_valid, Y_train, Y_valid = train_test_split(X_train, Y_train, test_size=0.16666666, random_state=1203)\n",
    "X_test  = test[0]\n",
    "Y_test  = test[1]\n",
    "\n",
    "print(f\"train img   : {X_train.shape}\")\n",
    "print(f\"train label : {Y_train.shape}\")\n",
    "print(f\"valid img   : {X_valid.shape}\")\n",
    "print(f\"valid label : {Y_valid.shape}\")\n",
    "\n",
    "print(f\"test img    : {test[0].shape}\")\n",
    "print(f\"test label  : {test[1].shape}\")\n"
   ]
  },
  {
   "cell_type": "code",
   "execution_count": 5,
   "id": "91a79d34",
   "metadata": {},
   "outputs": [
    {
     "name": "stdout",
     "output_type": "stream",
     "text": [
      "\n"
     ]
    }
   ],
   "source": [
    "# https://github.com/ansh941/MnistSimpleCNN\n",
    "\n",
    "''' SOTA model (homogeneous ensenble -m3) \n",
    "        super(ModelM3, self).__init__()\n",
    "        self.conv1 = nn.Conv2d(1, 32, 3, bias=False)       # output becomes 26x26\n",
    "        self.conv1_bn = nn.BatchNorm2d(32)\n",
    "        self.conv2 = nn.Conv2d(32, 48, 3, bias=False)      # output becomes 24x24\n",
    "        self.conv2_bn = nn.BatchNorm2d(48)\n",
    "        self.conv3 = nn.Conv2d(48, 64, 3, bias=False)      # output becomes 22x22\n",
    "        self.conv3_bn = nn.BatchNorm2d(64)\n",
    "        self.conv4 = nn.Conv2d(64, 80, 3, bias=False)      # output becomes 20x20\n",
    "        self.conv4_bn = nn.BatchNorm2d(80)\n",
    "        self.conv5 = nn.Conv2d(80, 96, 3, bias=False)      # output becomes 18x18\n",
    "        self.conv5_bn = nn.BatchNorm2d(96)\n",
    "        self.conv6 = nn.Conv2d(96, 112, 3, bias=False)     # output becomes 16x16\n",
    "        self.conv6_bn = nn.BatchNorm2d(112)\n",
    "        self.conv7 = nn.Conv2d(112, 128, 3, bias=False)    # output becomes 14x14\n",
    "        self.conv7_bn = nn.BatchNorm2d(128)\n",
    "        self.conv8 = nn.Conv2d(128, 144, 3, bias=False)    # output becomes 12x12\n",
    "        self.conv8_bn = nn.BatchNorm2d(144)\n",
    "        self.conv9 = nn.Conv2d(144, 160, 3, bias=False)    # output becomes 10x10\n",
    "        self.conv9_bn = nn.BatchNorm2d(160)\n",
    "        self.conv10 = nn.Conv2d(160, 176, 3, bias=False)   # output becomes 8x8\n",
    "        self.conv10_bn = nn.BatchNorm2d(176)\n",
    "        self.fc1 = nn.Linear(11264, 10, bias=False)\n",
    "        self.fc1_bn = nn.BatchNorm1d(10)\n",
    "'''\n",
    "print()"
   ]
  },
  {
   "cell_type": "code",
   "execution_count": 128,
   "id": "ecf8c13a",
   "metadata": {},
   "outputs": [],
   "source": [
    "# single conv layer (conv -> batch norm -> activation)\n",
    "class ConvBnAct(torch.nn.Module):\n",
    "    def __init__(self, in_channels, out_channels, padding=0, activation='relu'):\n",
    "        super().__init__()\n",
    "        \n",
    "        self.conv = torch.nn.Conv2d(\n",
    "            in_channels=in_channels, \n",
    "            out_channels=out_channels, \n",
    "            kernel_size=3,\n",
    "            stride=1,\n",
    "            padding=padding,\n",
    "            dilation=1,\n",
    "            bias=False,\n",
    "        )\n",
    "        self.bn = torch.nn.BatchNorm2d(\n",
    "            num_features=out_channels, eps=1e-05, momentum=0.1)\n",
    "        \n",
    "        if activation == 'gelu':\n",
    "            self.activation = torch.nn.GELU(approximate='tanh') \n",
    "        else:\n",
    "            self.activation = torch.nn.ReLU(inplace=True)\n",
    "        \n",
    "    def forward(self, x):\n",
    "        return self.activation(self.bn(self.conv(x)))\n",
    "\n",
    "\n",
    "    \n",
    "# single digit recognizer\n",
    "class DigitRecognizer(torch.nn.Module):\n",
    "    def __init__(self):\n",
    "        super().__init__()\n",
    "        self.maxpool = torch.nn.MaxPool2d(2, 2) # 안쓸듯..?\n",
    "        \n",
    "        self.conv1 = ConvBnAct(in_channels= 1, out_channels=32, activation='relu')\n",
    "        self.conv2 = ConvBnAct(in_channels=32, out_channels=48, activation='relu')\n",
    "        self.conv3 = ConvBnAct(in_channels=48, out_channels=64, activation='relu')\n",
    "\n",
    "        self.conv4 = ConvBnAct(in_channels=64, out_channels=80, activation='relu')\n",
    "        self.conv5 = ConvBnAct(in_channels=80, out_channels=96, activation='relu')\n",
    "        self.conv6 = ConvBnAct(in_channels=96, out_channels=112, activation='relu')\n",
    "\n",
    "        self.conv7 = ConvBnAct(in_channels=112, out_channels=118, activation='relu')\n",
    "        self.conv8 = ConvBnAct(in_channels=118, out_channels=144, activation='relu')\n",
    "        self.conv9 = ConvBnAct(in_channels=144, out_channels=160, activation='relu')\n",
    "        self.conv10 = ConvBnAct(in_channels=160, out_channels=176, activation='relu')\n",
    "\n",
    "        self.convs = [\n",
    "            self.conv1, self.conv2, self.conv3,\n",
    "            self.conv4, self.conv5, self.conv6,\n",
    "            self.conv7, self.conv8, self.conv9, self.conv10,\n",
    "        ]\n",
    "        self.linear = torch.nn.Linear(11264, 10)\n",
    "        \n",
    "    def forward(self, x):\n",
    "        for c in self.convs:\n",
    "            x = c(x)   # [batch_size, channels, height, weight]\n",
    "        x = torch.flatten(x.permute(0, 2, 3, 1), 1) # embedding\n",
    "        x = self.linear(x)\n",
    "        return x\n",
    "            \n",
    "    \n",
    "    \n",
    "# model for addition \n",
    "class DigitAdder(torch.nn.Module):\n",
    "    def __init__(self):\n",
    "        self.digit_recognizer = DigitRecognizer()\n",
    "        self.add_layer = torch.nn.Linear()\n",
    "\n",
    "        \n",
    "    def forward(self, x1, x2):\n",
    "        B = x1.shape[0] # batch size\n",
    "        \n",
    "        # x1\n",
    "        for c in self.convs:\n",
    "            x1 = c(x1)   # [batch_size, channels, height, weight]\n",
    "        x1 = torch.flatten(x1.permute(0, 2, 3, 1), 1) # embedding\n",
    "        x1 = self.linear(x1)\n",
    "        \n",
    "        # x2\n",
    "        if x2 is not None:\n",
    "            for c in self.convs:\n",
    "                x2 = c(x2)\n",
    "            x2 = torch.flatten(x2.permute(0, 2, 3, 1), 1)\n",
    "            x2 = self.linear(x2)\n",
    "        else:\n",
    "            x2 = torch.tensor([1,0,0,0,0,0,0,0,0,0]).repeat((B, 1)).to(x1.device)\n",
    "            \n",
    "        res = torch.cat([x1, x2], 1)\n",
    "        res = self.add_linear(res)\n",
    "        \n",
    "        return res\n",
    "        \n"
   ]
  },
  {
   "cell_type": "code",
   "execution_count": 141,
   "id": "3ee046ba",
   "metadata": {},
   "outputs": [
    {
     "data": {
      "text/plain": [
       "torch.Size([512, 1, 28, 28])"
      ]
     },
     "execution_count": 141,
     "metadata": {},
     "output_type": "execute_result"
    }
   ],
   "source": [
    "x_batch = next(iter(train_loader))[0]\n",
    "x_batch.shape"
   ]
  },
  {
   "cell_type": "code",
   "execution_count": 149,
   "id": "8b3dac2c",
   "metadata": {},
   "outputs": [],
   "source": [
    "a = torch.randint(0, 9, (1,10)).repeat(4, 1).unsqueeze(2)"
   ]
  },
  {
   "cell_type": "code",
   "execution_count": 150,
   "id": "533ede45",
   "metadata": {},
   "outputs": [],
   "source": [
    "b = torch.randint(0, 9, (1,10)).repeat(4, 1).unsqueeze(1)"
   ]
  },
  {
   "cell_type": "code",
   "execution_count": 153,
   "id": "59d52052",
   "metadata": {},
   "outputs": [],
   "source": [
    "combined_logits = a+b"
   ]
  },
  {
   "cell_type": "code",
   "execution_count": 155,
   "id": "33fef9cd",
   "metadata": {},
   "outputs": [
    {
     "data": {
      "text/plain": [
       "torch.Size([4, 100])"
      ]
     },
     "execution_count": 155,
     "metadata": {},
     "output_type": "execute_result"
    }
   ],
   "source": [
    "combined_logits.view(combined_logits.size(0), -1).shape"
   ]
  },
  {
   "cell_type": "code",
   "execution_count": 129,
   "id": "aafe491e",
   "metadata": {},
   "outputs": [],
   "source": [
    "class BaseDataset(torch.utils.data.Dataset):\n",
    "    def __init__(self, X, Y, mode ='train'):\n",
    "        self.X = X\n",
    "        self.Y = Y\n",
    "        self.mode = mode\n",
    "                \n",
    "    def __len__(self):\n",
    "        return len(self.X)\n",
    "    \n",
    "    def __getitem__(self, idx):\n",
    "        if self.mode in ['train', 'valid']:\n",
    "            x1 = self.X[idx][0].reshape(1, 28, 28).float()\n",
    "            x2 = self.X[idx][1].reshape(1, 28, 28).float() \n",
    "            y = self.Y[idx] \n",
    "            return x1, x2, y\n",
    "        else:\n",
    "            x = self.X[idx].reshape(1, 28, 28).float()\n",
    "            y = self.Y[idx]\n",
    "            return x, y\n",
    "\n",
    "\n",
    "\n",
    "train_dataset = BaseDataset(X_train, Y_train, mode='train')\n",
    "valid_dataset = BaseDataset(X_train, Y_train, mode='valid')\n",
    "test_dataset  = BaseDataset(X_test, Y_test, mode='test')\n",
    "\n",
    "train_loader = torch.utils.data.DataLoader(train_dataset, batch_size=configs.batch_size, shuffle=True)\n",
    "valid_loader = torch.utils.data.DataLoader(valid_dataset, batch_size=configs.batch_size, shuffle=False)\n",
    "test_loader  = torch.utils.data.DataLoader(test_dataset, batch_size=configs.batch_size, shuffle=False)"
   ]
  },
  {
   "cell_type": "code",
   "execution_count": 130,
   "id": "4978e659",
   "metadata": {},
   "outputs": [],
   "source": [
    "class cfg:\n",
    "    def __init__(self):\n",
    "        return\n",
    "    \n",
    "configs = cfg()\n",
    "configs.batch_size    = 512\n",
    "configs.learning_rate = 0.0001\n",
    "configs.device = 'cuda:0'\n",
    "configs.epochs = 10\n",
    "configs.num_gpus = torch.cuda.device_count()\n",
    "configs.tqdm = True"
   ]
  },
  {
   "cell_type": "code",
   "execution_count": 131,
   "id": "0c68bc88",
   "metadata": {},
   "outputs": [],
   "source": [
    "model = BaseModel()\n",
    "optimizer = torch.optim.Adam(params= model.parameters(), lr=configs.learning_rate)\n",
    "scheduler = None\n",
    "warm_up = None\n",
    "criterion = torch.nn.CrossEntropyLoss()"
   ]
  },
  {
   "cell_type": "code",
   "execution_count": 132,
   "id": "c96375a0",
   "metadata": {},
   "outputs": [],
   "source": [
    "def train_fn(configs, model, optimizer, criterion, scheduler, warm_up):\n",
    "    global y, yhat, labels, preds\n",
    "    def forward_step(batch):\n",
    "        x1, x2, y = batch\n",
    "        x1 = x1.to(configs.device)\n",
    "        x2 = x2.to(configs.device)\n",
    "        y  = y.to(configs.device)\n",
    "        \n",
    "        yhat = model(x1, x2)\n",
    "        loss = criterion(yhat, y)\n",
    "        \n",
    "        return yhat, loss\n",
    "    \n",
    "    train_loss_tracker = []\n",
    "    valid_loss_tracker = []\n",
    "    valid_acc_tracker  = []\n",
    "    valid_f1_tracker   = []\n",
    "\n",
    "    best_loss = 999999\n",
    "    best_acc  = 0.0\n",
    "    best_f1   = 0.0\n",
    "    best_model = None\n",
    "\n",
    "    model = model.to(configs.device)\n",
    "    if configs.num_gpus >= 1:\n",
    "        print(\"--current device : CUDA\")\n",
    "    if configs.num_gpus > 1:\n",
    "        model = torch.nn.DataParallel(model)\n",
    "        print(f\"--distributed training : {['cuda:'+str(i) for i in range(torch.cuda.device_count())]}\")\n",
    "\n",
    "    criterion = criterion.to(configs.device)\n",
    "    \n",
    "    for epoch in range(1, (configs.epochs + 1)):\n",
    "        # train stage\n",
    "        model.train()\n",
    "        train_loss = []\n",
    "        train_iterator = tq(train_loader) if configs.tqdm else train_loader\n",
    "        \n",
    "        for batch in train_iterator:\n",
    "            optimizer.zero_grad()\n",
    "            _, loss = forward_step(batch)\n",
    "            loss.backward()\n",
    "            optimizer.step()\n",
    "            train_loss.append(loss.item())\n",
    "            \n",
    "        if scheduler is not None:\n",
    "            scheduler.step()\n",
    "    \n",
    "        # validation stage\n",
    "        model.eval()\n",
    "        valid_loss = []\n",
    "        labels = []\n",
    "        preds  = []\n",
    "        \n",
    "        valid_iterator = tq(valid_loader) if configs.tqdm else valid_loader\n",
    "        with torch.no_grad():\n",
    "            for batch in valid_iterator:\n",
    "                yhat, loss = forward_step(batch)\n",
    "                valid_loss.append(loss.item())\n",
    "\n",
    "                # result\n",
    "                y = batch[2].detach().cpu().numpy()\n",
    "                yhat =  yhat.argmax(1).detach().cpu().numpy()\n",
    "                \n",
    "                labels.append(y)\n",
    "                preds.append(yhat)\n",
    "                \n",
    "        labels = np.concatenate(labels, axis=0)\n",
    "        preds  = np.concatenate(preds,  axis=0)\n",
    "        # metric\n",
    "        acc, f1 = accuracy_score(labels, preds), f1_score(labels, preds, average = 'macro')\n",
    "        \n",
    "        if f1 > best_f1:\n",
    "            best_f1 = f1\n",
    "            best_model = model\n",
    "        \n",
    "        train_loss = round(np.mean(train_loss), 4)\n",
    "        valid_loss = round(np.mean(valid_loss)  , 4)\n",
    "        valid_acc  = round(acc, 4)\n",
    "        valid_f1   = round(f1, 4)\n",
    "        \n",
    "        print(f\"-- EPOCH {epoch} --\")\n",
    "        print(f\"training   loss : {train_loss}\")\n",
    "        print(f\"validation loss : {valid_loss}\")\n",
    "        print(f\"current val acc : {valid_acc}\")\n",
    "        print(f\"current val f1  : {valid_f1}\") \n",
    "        print(f\"best val acc    : {round(best_acc, 4)}\")\n",
    "        print(f\"best val f1     : {round(best_f1, 4)}\")\n",
    "        print(f\"labels (first 5 items)  : {labels[:5]}\")\n",
    "        print(f\"preds  (first 5 items)  : {preds[:5]}\")\n",
    "        train_loss_tracker.append(train_loss)\n",
    "        valid_loss_tracker.append(valid_loss)\n",
    "        valid_acc_tracker.append(valid_acc)\n",
    "        valid_f1_tracker.append(valid_f1)\n",
    "        \n",
    "    return best_model, train_loss_tracker, valid_loss_tracker, valid_acc_tracker, valid_f1_tracker"
   ]
  },
  {
   "cell_type": "code",
   "execution_count": 133,
   "id": "55e542de",
   "metadata": {
    "scrolled": false
   },
   "outputs": [
    {
     "name": "stdout",
     "output_type": "stream",
     "text": [
      "--current device : CUDA\n"
     ]
    },
    {
     "data": {
      "application/vnd.jupyter.widget-view+json": {
       "model_id": "bda5295390154403bd05a4bbe009ed7b",
       "version_major": 2,
       "version_minor": 0
      },
      "text/plain": [
       "  0%|          | 0/98 [00:00<?, ?it/s]"
      ]
     },
     "metadata": {},
     "output_type": "display_data"
    },
    {
     "data": {
      "application/vnd.jupyter.widget-view+json": {
       "model_id": "928136fa4fa8469d9572bc9d30b2dfd9",
       "version_major": 2,
       "version_minor": 0
      },
      "text/plain": [
       "  0%|          | 0/98 [00:00<?, ?it/s]"
      ]
     },
     "metadata": {},
     "output_type": "display_data"
    },
    {
     "name": "stdout",
     "output_type": "stream",
     "text": [
      "-- EPOCH 1 --\n",
      "training   loss : 2.7297\n",
      "validation loss : 2.5513\n",
      "current val acc : 0.1616\n",
      "current val f1  : 0.1099\n",
      "best val acc    : 0.0\n",
      "best val f1     : 0.1099\n",
      "labels (first 5 items)  : [ 1  6 16  9 14]\n",
      "preds  (first 5 items)  : [ 4  8 14 14 12]\n"
     ]
    },
    {
     "data": {
      "application/vnd.jupyter.widget-view+json": {
       "model_id": "be709e3bb69d496e846142958fb95427",
       "version_major": 2,
       "version_minor": 0
      },
      "text/plain": [
       "  0%|          | 0/98 [00:00<?, ?it/s]"
      ]
     },
     "metadata": {},
     "output_type": "display_data"
    },
    {
     "data": {
      "application/vnd.jupyter.widget-view+json": {
       "model_id": "ad8b7360a1c8493c9c03e80e8d698abb",
       "version_major": 2,
       "version_minor": 0
      },
      "text/plain": [
       "  0%|          | 0/98 [00:00<?, ?it/s]"
      ]
     },
     "metadata": {},
     "output_type": "display_data"
    },
    {
     "name": "stdout",
     "output_type": "stream",
     "text": [
      "-- EPOCH 2 --\n",
      "training   loss : 2.4788\n",
      "validation loss : 2.3284\n",
      "current val acc : 0.2356\n",
      "current val f1  : 0.1756\n",
      "best val acc    : 0.0\n",
      "best val f1     : 0.1756\n",
      "labels (first 5 items)  : [ 1  6 16  9 14]\n",
      "preds  (first 5 items)  : [ 1  6 12 10 12]\n"
     ]
    },
    {
     "data": {
      "application/vnd.jupyter.widget-view+json": {
       "model_id": "bebda80139b8414fb5fad4b637dccdb7",
       "version_major": 2,
       "version_minor": 0
      },
      "text/plain": [
       "  0%|          | 0/98 [00:00<?, ?it/s]"
      ]
     },
     "metadata": {},
     "output_type": "display_data"
    },
    {
     "data": {
      "application/vnd.jupyter.widget-view+json": {
       "model_id": "e02dc1a53d5047f6bf3a5078570cf6f5",
       "version_major": 2,
       "version_minor": 0
      },
      "text/plain": [
       "  0%|          | 0/98 [00:00<?, ?it/s]"
      ]
     },
     "metadata": {},
     "output_type": "display_data"
    },
    {
     "name": "stdout",
     "output_type": "stream",
     "text": [
      "-- EPOCH 3 --\n",
      "training   loss : 2.2482\n",
      "validation loss : 2.1014\n",
      "current val acc : 0.3197\n",
      "current val f1  : 0.2503\n",
      "best val acc    : 0.0\n",
      "best val f1     : 0.2503\n",
      "labels (first 5 items)  : [ 1  6 16  9 14]\n",
      "preds  (first 5 items)  : [ 1  6 13  9 12]\n"
     ]
    },
    {
     "data": {
      "application/vnd.jupyter.widget-view+json": {
       "model_id": "bc0f26732a9b4d50b51d14bd0d96da71",
       "version_major": 2,
       "version_minor": 0
      },
      "text/plain": [
       "  0%|          | 0/98 [00:00<?, ?it/s]"
      ]
     },
     "metadata": {},
     "output_type": "display_data"
    },
    {
     "data": {
      "application/vnd.jupyter.widget-view+json": {
       "model_id": "b9ed82a7223e4aca9019afef44c0829a",
       "version_major": 2,
       "version_minor": 0
      },
      "text/plain": [
       "  0%|          | 0/98 [00:00<?, ?it/s]"
      ]
     },
     "metadata": {},
     "output_type": "display_data"
    },
    {
     "name": "stdout",
     "output_type": "stream",
     "text": [
      "-- EPOCH 4 --\n",
      "training   loss : 1.9871\n",
      "validation loss : 1.822\n",
      "current val acc : 0.4123\n",
      "current val f1  : 0.3335\n",
      "best val acc    : 0.0\n",
      "best val f1     : 0.3335\n",
      "labels (first 5 items)  : [ 1  6 16  9 14]\n",
      "preds  (first 5 items)  : [ 1  6 15 10 12]\n"
     ]
    },
    {
     "data": {
      "application/vnd.jupyter.widget-view+json": {
       "model_id": "10701faa5de6407a98dafa8823befd16",
       "version_major": 2,
       "version_minor": 0
      },
      "text/plain": [
       "  0%|          | 0/98 [00:00<?, ?it/s]"
      ]
     },
     "metadata": {},
     "output_type": "display_data"
    },
    {
     "data": {
      "application/vnd.jupyter.widget-view+json": {
       "model_id": "ff706bc089a54c8e87e2f9aee1985375",
       "version_major": 2,
       "version_minor": 0
      },
      "text/plain": [
       "  0%|          | 0/98 [00:00<?, ?it/s]"
      ]
     },
     "metadata": {},
     "output_type": "display_data"
    },
    {
     "name": "stdout",
     "output_type": "stream",
     "text": [
      "-- EPOCH 5 --\n",
      "training   loss : 1.7393\n",
      "validation loss : 1.5838\n",
      "current val acc : 0.5118\n",
      "current val f1  : 0.4566\n",
      "best val acc    : 0.0\n",
      "best val f1     : 0.4566\n",
      "labels (first 5 items)  : [ 1  6 16  9 14]\n",
      "preds  (first 5 items)  : [ 1  6 13  8 12]\n"
     ]
    },
    {
     "data": {
      "application/vnd.jupyter.widget-view+json": {
       "model_id": "393550d6fe5a4bff84795d0a9620ce95",
       "version_major": 2,
       "version_minor": 0
      },
      "text/plain": [
       "  0%|          | 0/98 [00:00<?, ?it/s]"
      ]
     },
     "metadata": {},
     "output_type": "display_data"
    },
    {
     "data": {
      "application/vnd.jupyter.widget-view+json": {
       "model_id": "46f67a1ecd4d498b8545f46bb9b30e6b",
       "version_major": 2,
       "version_minor": 0
      },
      "text/plain": [
       "  0%|          | 0/98 [00:00<?, ?it/s]"
      ]
     },
     "metadata": {},
     "output_type": "display_data"
    },
    {
     "name": "stdout",
     "output_type": "stream",
     "text": [
      "-- EPOCH 6 --\n",
      "training   loss : 1.5045\n",
      "validation loss : 1.3938\n",
      "current val acc : 0.5595\n",
      "current val f1  : 0.527\n",
      "best val acc    : 0.0\n",
      "best val f1     : 0.527\n",
      "labels (first 5 items)  : [ 1  6 16  9 14]\n",
      "preds  (first 5 items)  : [ 1  6 14  9 12]\n"
     ]
    },
    {
     "data": {
      "application/vnd.jupyter.widget-view+json": {
       "model_id": "629c4da171ca42d5ace73b20d15f0826",
       "version_major": 2,
       "version_minor": 0
      },
      "text/plain": [
       "  0%|          | 0/98 [00:00<?, ?it/s]"
      ]
     },
     "metadata": {},
     "output_type": "display_data"
    },
    {
     "data": {
      "application/vnd.jupyter.widget-view+json": {
       "model_id": "53d1d2f641454161bc06df958e7a8b45",
       "version_major": 2,
       "version_minor": 0
      },
      "text/plain": [
       "  0%|          | 0/98 [00:00<?, ?it/s]"
      ]
     },
     "metadata": {},
     "output_type": "display_data"
    },
    {
     "name": "stdout",
     "output_type": "stream",
     "text": [
      "-- EPOCH 7 --\n",
      "training   loss : 1.2983\n",
      "validation loss : 1.1452\n",
      "current val acc : 0.6857\n",
      "current val f1  : 0.6647\n",
      "best val acc    : 0.0\n",
      "best val f1     : 0.6647\n",
      "labels (first 5 items)  : [ 1  6 16  9 14]\n",
      "preds  (first 5 items)  : [ 1  6 16  9 12]\n"
     ]
    },
    {
     "data": {
      "application/vnd.jupyter.widget-view+json": {
       "model_id": "43a80e19a62b40cf898a3332d18ad70a",
       "version_major": 2,
       "version_minor": 0
      },
      "text/plain": [
       "  0%|          | 0/98 [00:00<?, ?it/s]"
      ]
     },
     "metadata": {},
     "output_type": "display_data"
    },
    {
     "data": {
      "application/vnd.jupyter.widget-view+json": {
       "model_id": "bb21a09f1c26424bac32c11775c96496",
       "version_major": 2,
       "version_minor": 0
      },
      "text/plain": [
       "  0%|          | 0/98 [00:00<?, ?it/s]"
      ]
     },
     "metadata": {},
     "output_type": "display_data"
    },
    {
     "name": "stdout",
     "output_type": "stream",
     "text": [
      "-- EPOCH 8 --\n",
      "training   loss : 1.131\n",
      "validation loss : 1.0516\n",
      "current val acc : 0.7258\n",
      "current val f1  : 0.7174\n",
      "best val acc    : 0.0\n",
      "best val f1     : 0.7174\n",
      "labels (first 5 items)  : [ 1  6 16  9 14]\n",
      "preds  (first 5 items)  : [ 1  6 16  9 12]\n"
     ]
    },
    {
     "data": {
      "application/vnd.jupyter.widget-view+json": {
       "model_id": "b3b2ce523ed748eba1aa86b67caaff00",
       "version_major": 2,
       "version_minor": 0
      },
      "text/plain": [
       "  0%|          | 0/98 [00:00<?, ?it/s]"
      ]
     },
     "metadata": {},
     "output_type": "display_data"
    },
    {
     "data": {
      "application/vnd.jupyter.widget-view+json": {
       "model_id": "9b46da7da0634a78a084d89b0a0effe0",
       "version_major": 2,
       "version_minor": 0
      },
      "text/plain": [
       "  0%|          | 0/98 [00:00<?, ?it/s]"
      ]
     },
     "metadata": {},
     "output_type": "display_data"
    },
    {
     "name": "stdout",
     "output_type": "stream",
     "text": [
      "-- EPOCH 9 --\n",
      "training   loss : 0.9755\n",
      "validation loss : 0.8792\n",
      "current val acc : 0.7989\n",
      "current val f1  : 0.8005\n",
      "best val acc    : 0.0\n",
      "best val f1     : 0.8005\n",
      "labels (first 5 items)  : [ 1  6 16  9 14]\n",
      "preds  (first 5 items)  : [ 1  6 16  9 14]\n"
     ]
    },
    {
     "data": {
      "application/vnd.jupyter.widget-view+json": {
       "model_id": "43cdad75cf4948f3b51473335a118457",
       "version_major": 2,
       "version_minor": 0
      },
      "text/plain": [
       "  0%|          | 0/98 [00:00<?, ?it/s]"
      ]
     },
     "metadata": {},
     "output_type": "display_data"
    },
    {
     "data": {
      "application/vnd.jupyter.widget-view+json": {
       "model_id": "443223c1e7df4ce99a6051a5aacfe6f8",
       "version_major": 2,
       "version_minor": 0
      },
      "text/plain": [
       "  0%|          | 0/98 [00:00<?, ?it/s]"
      ]
     },
     "metadata": {},
     "output_type": "display_data"
    },
    {
     "name": "stdout",
     "output_type": "stream",
     "text": [
      "-- EPOCH 10 --\n",
      "training   loss : 0.8501\n",
      "validation loss : 0.754\n",
      "current val acc : 0.8308\n",
      "current val f1  : 0.8209\n",
      "best val acc    : 0.0\n",
      "best val f1     : 0.8209\n",
      "labels (first 5 items)  : [ 1  6 16  9 14]\n",
      "preds  (first 5 items)  : [ 1  6 16  9 14]\n"
     ]
    }
   ],
   "source": [
    "outputs = train_fn(configs, model, optimizer, criterion, scheduler, warm_up)"
   ]
  },
  {
   "cell_type": "code",
   "execution_count": 134,
   "id": "fc1adac8",
   "metadata": {},
   "outputs": [],
   "source": [
    "best_model = outputs[0]"
   ]
  },
  {
   "cell_type": "code",
   "execution_count": 136,
   "id": "3682b4d4",
   "metadata": {},
   "outputs": [],
   "source": [
    "def inference(configs, model, test_loader):\n",
    "    global preds, labels\n",
    "    def forward_step(batch):\n",
    "        x, y = batch\n",
    "        x = x.to(configs.device)\n",
    "        yhat = model(x, None)\n",
    "        return yhat\n",
    "    \n",
    "    model = model.to(configs.device)\n",
    "    # test stage\n",
    "    model.eval()\n",
    "    test_loss = []\n",
    "    labels = []\n",
    "    preds  = []\n",
    "\n",
    "    test_iterator = tq(test_loader) if configs.tqdm else test_loader\n",
    "    with torch.no_grad():\n",
    "        for batch in test_iterator:\n",
    "            yhat = forward_step(batch)\n",
    "\n",
    "            # result\n",
    "            y = batch[1].detach().cpu().numpy()\n",
    "            yhat =  yhat.argmax(1).detach().cpu().numpy()\n",
    "\n",
    "            labels.append(y)\n",
    "            preds.append(yhat)\n",
    "\n",
    "    labels = np.concatenate(labels, axis=0)\n",
    "    preds  = np.concatenate(preds,  axis=0)\n",
    "    # metric\n",
    "    acc, f1 = accuracy_score(labels, preds), f1_score(labels, preds, average = 'macro')\n",
    "\n",
    "    test_acc  = round(acc, 4)\n",
    "    test_f1   = round(f1, 4)\n",
    "    \n",
    "    print([test_acc, test_f1])\n",
    "    \n",
    "    return test_acc, test_f1, labels, preds\n",
    "\n"
   ]
  },
  {
   "cell_type": "code",
   "execution_count": 137,
   "id": "3bf1b985",
   "metadata": {
    "scrolled": true
   },
   "outputs": [
    {
     "data": {
      "application/vnd.jupyter.widget-view+json": {
       "model_id": "5e82d3113c064f999a9245613d6de44f",
       "version_major": 2,
       "version_minor": 0
      },
      "text/plain": [
       "  0%|          | 0/20 [00:00<?, ?it/s]"
      ]
     },
     "metadata": {},
     "output_type": "display_data"
    },
    {
     "name": "stdout",
     "output_type": "stream",
     "text": [
      "[0.0978, 0.0292]\n"
     ]
    }
   ],
   "source": [
    "predict = inference(configs, best_model, test_loader)"
   ]
  },
  {
   "cell_type": "code",
   "execution_count": 138,
   "id": "78b57954",
   "metadata": {},
   "outputs": [
    {
     "data": {
      "text/plain": [
       "array([8, 9, 9, ..., 8, 8, 8])"
      ]
     },
     "execution_count": 138,
     "metadata": {},
     "output_type": "execute_result"
    }
   ],
   "source": [
    "preds"
   ]
  },
  {
   "cell_type": "code",
   "execution_count": 139,
   "id": "3ab56bf2",
   "metadata": {},
   "outputs": [
    {
     "data": {
      "text/plain": [
       "array([7, 2, 1, ..., 4, 5, 6])"
      ]
     },
     "execution_count": 139,
     "metadata": {},
     "output_type": "execute_result"
    }
   ],
   "source": [
    "labels"
   ]
  },
  {
   "cell_type": "code",
   "execution_count": 126,
   "id": "fe0cacc1",
   "metadata": {},
   "outputs": [
    {
     "data": {
      "text/html": [
       "<div>\n",
       "<style scoped>\n",
       "    .dataframe tbody tr th:only-of-type {\n",
       "        vertical-align: middle;\n",
       "    }\n",
       "\n",
       "    .dataframe tbody tr th {\n",
       "        vertical-align: top;\n",
       "    }\n",
       "\n",
       "    .dataframe thead th {\n",
       "        text-align: right;\n",
       "    }\n",
       "</style>\n",
       "<table border=\"1\" class=\"dataframe\">\n",
       "  <thead>\n",
       "    <tr style=\"text-align: right;\">\n",
       "      <th></th>\n",
       "      <th>0</th>\n",
       "    </tr>\n",
       "  </thead>\n",
       "  <tbody>\n",
       "    <tr>\n",
       "      <th>64</th>\n",
       "      <td>True</td>\n",
       "    </tr>\n",
       "    <tr>\n",
       "      <th>111</th>\n",
       "      <td>True</td>\n",
       "    </tr>\n",
       "    <tr>\n",
       "      <th>144</th>\n",
       "      <td>True</td>\n",
       "    </tr>\n",
       "    <tr>\n",
       "      <th>175</th>\n",
       "      <td>True</td>\n",
       "    </tr>\n",
       "    <tr>\n",
       "      <th>411</th>\n",
       "      <td>True</td>\n",
       "    </tr>\n",
       "    <tr>\n",
       "      <th>...</th>\n",
       "      <td>...</td>\n",
       "    </tr>\n",
       "    <tr>\n",
       "      <th>9546</th>\n",
       "      <td>True</td>\n",
       "    </tr>\n",
       "    <tr>\n",
       "      <th>9618</th>\n",
       "      <td>True</td>\n",
       "    </tr>\n",
       "    <tr>\n",
       "      <th>9652</th>\n",
       "      <td>True</td>\n",
       "    </tr>\n",
       "    <tr>\n",
       "      <th>9746</th>\n",
       "      <td>True</td>\n",
       "    </tr>\n",
       "    <tr>\n",
       "      <th>9916</th>\n",
       "      <td>True</td>\n",
       "    </tr>\n",
       "  </tbody>\n",
       "</table>\n",
       "<p>124 rows × 1 columns</p>\n",
       "</div>"
      ],
      "text/plain": [
       "         0\n",
       "64    True\n",
       "111   True\n",
       "144   True\n",
       "175   True\n",
       "411   True\n",
       "...    ...\n",
       "9546  True\n",
       "9618  True\n",
       "9652  True\n",
       "9746  True\n",
       "9916  True\n",
       "\n",
       "[124 rows x 1 columns]"
      ]
     },
     "execution_count": 126,
     "metadata": {},
     "output_type": "execute_result"
    }
   ],
   "source": [
    "r = pd.DataFrame(preds==labels)\n",
    "r[r[0] == True]"
   ]
  },
  {
   "cell_type": "code",
   "execution_count": 127,
   "id": "02422299",
   "metadata": {},
   "outputs": [
    {
     "data": {
      "text/html": [
       "<div>\n",
       "<style scoped>\n",
       "    .dataframe tbody tr th:only-of-type {\n",
       "        vertical-align: middle;\n",
       "    }\n",
       "\n",
       "    .dataframe tbody tr th {\n",
       "        vertical-align: top;\n",
       "    }\n",
       "\n",
       "    .dataframe thead th {\n",
       "        text-align: right;\n",
       "    }\n",
       "</style>\n",
       "<table border=\"1\" class=\"dataframe\">\n",
       "  <thead>\n",
       "    <tr style=\"text-align: right;\">\n",
       "      <th></th>\n",
       "      <th>0</th>\n",
       "    </tr>\n",
       "  </thead>\n",
       "  <tbody>\n",
       "    <tr>\n",
       "      <th>0</th>\n",
       "      <td>False</td>\n",
       "    </tr>\n",
       "    <tr>\n",
       "      <th>1</th>\n",
       "      <td>False</td>\n",
       "    </tr>\n",
       "    <tr>\n",
       "      <th>2</th>\n",
       "      <td>False</td>\n",
       "    </tr>\n",
       "    <tr>\n",
       "      <th>3</th>\n",
       "      <td>False</td>\n",
       "    </tr>\n",
       "    <tr>\n",
       "      <th>4</th>\n",
       "      <td>False</td>\n",
       "    </tr>\n",
       "    <tr>\n",
       "      <th>...</th>\n",
       "      <td>...</td>\n",
       "    </tr>\n",
       "    <tr>\n",
       "      <th>9995</th>\n",
       "      <td>False</td>\n",
       "    </tr>\n",
       "    <tr>\n",
       "      <th>9996</th>\n",
       "      <td>False</td>\n",
       "    </tr>\n",
       "    <tr>\n",
       "      <th>9997</th>\n",
       "      <td>False</td>\n",
       "    </tr>\n",
       "    <tr>\n",
       "      <th>9998</th>\n",
       "      <td>False</td>\n",
       "    </tr>\n",
       "    <tr>\n",
       "      <th>9999</th>\n",
       "      <td>False</td>\n",
       "    </tr>\n",
       "  </tbody>\n",
       "</table>\n",
       "<p>10000 rows × 1 columns</p>\n",
       "</div>"
      ],
      "text/plain": [
       "          0\n",
       "0     False\n",
       "1     False\n",
       "2     False\n",
       "3     False\n",
       "4     False\n",
       "...     ...\n",
       "9995  False\n",
       "9996  False\n",
       "9997  False\n",
       "9998  False\n",
       "9999  False\n",
       "\n",
       "[10000 rows x 1 columns]"
      ]
     },
     "execution_count": 127,
     "metadata": {},
     "output_type": "execute_result"
    }
   ],
   "source": [
    "r"
   ]
  },
  {
   "cell_type": "code",
   "execution_count": null,
   "id": "5ca06a74",
   "metadata": {},
   "outputs": [],
   "source": []
  },
  {
   "cell_type": "code",
   "execution_count": null,
   "id": "6bf92888",
   "metadata": {},
   "outputs": [],
   "source": []
  },
  {
   "cell_type": "code",
   "execution_count": null,
   "id": "69234ea2",
   "metadata": {},
   "outputs": [],
   "source": []
  },
  {
   "cell_type": "code",
   "execution_count": null,
   "id": "003f3e80",
   "metadata": {},
   "outputs": [],
   "source": []
  }
 ],
 "metadata": {
  "kernelspec": {
   "display_name": "tch",
   "language": "python",
   "name": "tch"
  },
  "language_info": {
   "codemirror_mode": {
    "name": "ipython",
    "version": 3
   },
   "file_extension": ".py",
   "mimetype": "text/x-python",
   "name": "python",
   "nbconvert_exporter": "python",
   "pygments_lexer": "ipython3",
   "version": "3.10.9"
  }
 },
 "nbformat": 4,
 "nbformat_minor": 5
}
